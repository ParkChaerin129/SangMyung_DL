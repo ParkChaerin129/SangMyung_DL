{
 "cells": [
  {
   "cell_type": "code",
   "execution_count": 1,
   "id": "919f3927",
   "metadata": {},
   "outputs": [],
   "source": [
    "import torch\n",
    "import torch.nn as nn\n",
    "import torch.optim as optim\n",
    "import torchvision.datasets as dset\n",
    "import torchvision.transforms as transforms\n",
    "from torch.utils.data import DataLoader\n",
    "from torch.autograd import Variable\n",
    "import matplotlib.pyplot as plt\n",
    "%matplotlib inline\n",
    "import numpy as np"
   ]
  },
  {
   "cell_type": "code",
   "execution_count": 2,
   "id": "5b9804ab",
   "metadata": {},
   "outputs": [],
   "source": [
    "mnist_train=dset.MNIST(\"\",train=True,transform=transforms.ToTensor(),target_transform=None,download=True)\n",
    "mnist_test=dset.MNIST(\"\",train=False,transform=transforms.ToTensor(),target_transform=None,download=True)"
   ]
  },
  {
   "cell_type": "code",
   "execution_count": 5,
   "id": "07b8fc45",
   "metadata": {},
   "outputs": [
    {
     "name": "stdout",
     "output_type": "stream",
     "text": [
      "mnist_train 길이: 60000\n",
      "mnist_test 길이: 10000\n",
      "image data 형태: torch.Size([1, 28, 28])\n",
      "label:  5\n"
     ]
    },
    {
     "data": {
      "image/png": "[encoded data removed]",
      "text/plain": [
       "<Figure size 432x288 with 1 Axes>"
      ]
     },
     "metadata": {
      "needs_background": "light"
     },
     "output_type": "display_data"
    }
   ],
   "source": [
    "print(\"mnist_train 길이:\", len(mnist_train))\n",
    "print(\"mnist_test 길이:\", len(mnist_test))\n",
    "\n",
    "#데이터 하나 형태\n",
    "image, label = mnist_train.__getitem__(0) #0번째 데이터\n",
    "print(\"image data 형태:\", image.size())\n",
    "print(\"label: \",label)\n",
    "\n",
    "# 그리기\n",
    "img = image.numpy() #image 타입을 numpy로 변환 (1,28,28)\n",
    "plt.title(\"label: %d\" %label)\n",
    "plt.imshow(img[0], cmap='gray')\n",
    "plt.show()"
   ]
  },
  {
   "cell_type": "code",
   "execution_count": 6,
   "id": "062c998e",
   "metadata": {},
   "outputs": [],
   "source": [
    "#hyper parameters\n",
    "batch_size = 1024\n",
    "learning_rate = 0.01 # 0.1, 0.01, 0.001 ...\n",
    "num_epoch = 400"
   ]
  },
  {
   "cell_type": "code",
   "execution_count": 9,
   "id": "b9dbe35b",
   "metadata": {},
   "outputs": [],
   "source": [
    "train_loader = torch.utils.data.DataLoader(mnist_train,\n",
    "                                          batch_size=batch_size, \n",
    "                                           shuffle=True, num_workers=2,\n",
    "                                           drop_last=True)\n",
    "test_loader = torch.utils.data.DataLoader(mnist_test,batch_size=batch_size,\n",
    "                                         shuffle=False,num_workers=2,\n",
    "                                         drop_last=True)"
   ]
  },
  {
   "cell_type": "code",
   "execution_count": 11,
   "id": "4affa2b8",
   "metadata": {},
   "outputs": [
    {
     "name": "stdout",
     "output_type": "stream",
     "text": [
      "[0]\n",
      "한 번에 로드되는 데이터 크기: 1024\n",
      "[1]\n",
      "한 번에 로드되는 데이터 크기: 1024\n",
      "[2]\n",
      "한 번에 로드되는 데이터 크기: 1024\n",
      "[3]\n",
      "한 번에 로드되는 데이터 크기: 1024\n"
     ]
    },
    {
     "name": "stderr",
     "output_type": "stream",
     "text": [
      "/home/ec2-user/anaconda3/envs/pytorch_p36/lib/python3.6/site-packages/ipykernel/__main__.py:15: MatplotlibDeprecationWarning: Adding an axes using the same arguments as a previous axes currently reuses the earlier instance.  In a future version, a new instance will always be created and returned.  Meanwhile, this warning can be suppressed, and the future behavior ensured, by passing a unique label to each axes instance.\n"
     ]
    },
    {
     "name": "stdout",
     "output_type": "stream",
     "text": [
      "[4]\n",
      "한 번에 로드되는 데이터 크기: 1024\n",
      "[5]\n",
      "한 번에 로드되는 데이터 크기: 1024\n"
     ]
    },
    {
     "data": {
      "image/png": "[encoded data removed]",
      "text/plain": [
       "<Figure size 432x288 with 3 Axes>"
      ]
     },
     "metadata": {
      "needs_background": "light"
     },
     "output_type": "display_data"
    }
   ],
   "source": [
    "n = 3 # 샘플로 그려볼 데이터 개수\n",
    "for i, [imgs, labels] in enumerate(test_loader): # batch_size 만큼\n",
    "    if i>5:\n",
    "        break;\n",
    "    \n",
    "    print (\"[%d]\"%i)\n",
    "    print (\"한 번에 로드되는 데이터 크기:\",len(imgs))\n",
    "    \n",
    "    #그리기\n",
    "    for j in range(n):\n",
    "        img = imgs[j].numpy() # image 타입을 numpy로 변환 (1,28,28)\n",
    "        img = img.reshape((img.shape[1],img.shape[2]))\n",
    "        # print img,shape\n",
    "        \n",
    "        plt.subplot(1,n,j+1) # (1,3) 형태 플랏의 j번째 자리에 그리겠다\n",
    "        plt.imshow(img, cmap='gray')\n",
    "        plt.title(\"label: %d\" %labels[j])\n",
    "    plt.show"
   ]
  },
  {
   "cell_type": "code",
   "execution_count": 12,
   "id": "7e31ef7d",
   "metadata": {},
   "outputs": [],
   "source": [
    "#모델 선언\n",
    "# * 퍼셉트론(2 hidden layer) *\n",
    "model = nn.Sequential(\n",
    "    nn.Linear(28*28,256),\n",
    "    nn.Sigmoid(), #nn.ReLU(), nn.Sigmoid() 91.89%\n",
    "    nn.Linear(256,128),\n",
    "    nn.Linear(128,10),\n",
    ")\n",
    "#파라미터 보기\n",
    "#print(list(model.parameters()))"
   ]
  },
  {
   "cell_type": "code",
   "execution_count": 13,
   "id": "ff3d936a",
   "metadata": {},
   "outputs": [],
   "source": [
    "#model = model.cuda()"
   ]
  },
  {
   "cell_type": "code",
   "execution_count": 14,
   "id": "848c39ef",
   "metadata": {},
   "outputs": [],
   "source": [
    "def ComputeAccr(dloader, imodel):\n",
    "    correct = 0\n",
    "    total = 0\n",
    "    \n",
    "    for j, [imgs,labels] in enumerate(dloader):\n",
    "        img = imgs\n",
    "        label = Variable(labels) #y\n",
    "        #label = Variable(labels).cuda()\n",
    "        # .cuda(): GPU에 로드되기 위함. 만약 CPU로 설정되어 있다면 에러남\n",
    "        \n",
    "        # (batch_size 1,28,28) -> (batch_size,28,28)\n",
    "        img = img.reshape((img.shape[0], img.shape[2],img.shape[3]))\n",
    "        img = img.reshape((img.shape[0], img.shape[1]*img.shape[2]))\n",
    "        img = Variable(img,requires_grad=False)\n",
    "        \n",
    "        output = imodel(img)\n",
    "        _, output_index = torch.max(output,1)\n",
    "        \n",
    "        total += label.size(0)\n",
    "        correct +=(output_index == label).sum().float()\n",
    "    print(\"Accuracy of Test Data: {}\".format(100*correct/total))"
   ]
  },
  {
   "cell_type": "code",
   "execution_count": 15,
   "id": "f650252d",
   "metadata": {},
   "outputs": [
    {
     "name": "stdout",
     "output_type": "stream",
     "text": [
      "Accuracy of Test Data: 11.295573234558105\n"
     ]
    }
   ],
   "source": [
    "ComputeAccr(test_loader,model)"
   ]
  },
  {
   "cell_type": "code",
   "execution_count": 16,
   "id": "5abbcd70",
   "metadata": {},
   "outputs": [],
   "source": [
    "loss_func = nn.CrossEntropyLoss()\n",
    "optimizer = optim.SGD(model.parameters(), lr=learning_rate)"
   ]
  }
 ],
 "metadata": {
  "kernelspec": {
   "display_name": "conda_pytorch_p36",
   "language": "python",
   "name": "conda_pytorch_p36"
  },
  "language_info": {
   "codemirror_mode": {
    "name": "ipython",
    "version": 3
   },
   "file_extension": ".py",
   "mimetype": "text/x-python",
   "name": "python",
   "nbconvert_exporter": "python",
   "pygments_lexer": "ipython3",
   "version": "3.6.13"
  }
 },
 "nbformat": 4,
 "nbformat_minor": 5
}
